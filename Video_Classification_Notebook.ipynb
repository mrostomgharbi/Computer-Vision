{
 "cells": [
  {
   "cell_type": "markdown",
   "metadata": {},
   "source": [
    "<h2> <center> Video classification </center> </h2>"
   ]
  },
  {
   "cell_type": "markdown",
   "metadata": {},
   "source": [
    "The key factor here is to use the **rolling prediction average**. <br>\n",
    "The algorithm is so : "
   ]
  },
  {
   "cell_type": "markdown",
   "metadata": {},
   "source": [
    "1. Loop over all frames in the video file\n",
    "2. For each frame, pass the frame through the CNN\n",
    "3. Obtain the predictions from the CNN\n",
    "4. Maintain a list of the last K predictions\n",
    "5. Compute the average of the last K predictions and choose the label with the largest corresponding probability\n",
    "6. Label the frame and write the output frame to disk"
   ]
  },
  {
   "cell_type": "markdown",
   "metadata": {},
   "source": [
    "<h3> 1. Data to use : </h3>"
   ]
  },
  {
   "cell_type": "markdown",
   "metadata": {},
   "source": [
    "We will be using the Sports Classification Dataset. You can download it as follow : "
   ]
  },
  {
   "cell_type": "code",
   "execution_count": 1,
   "metadata": {},
   "outputs": [
    {
     "name": "stdout",
     "output_type": "stream",
     "text": [
      "Cloning into 'Sports-Type-Classifier'...\n",
      "remote: Enumerating objects: 14521, done.\u001b[K\n",
      "remote: Counting objects: 100% (14521/14521), done.\u001b[K\n",
      "remote: Compressing objects: 100% (14512/14512), done.\u001b[K\n",
      "remote: Total 14521 (delta 7), reused 14519 (delta 5), pack-reused 0\u001b[K\n",
      "Receiving objects: 100% (14521/14521), 592.88 MiB | 5.05 MiB/s, done.\n",
      "Resolving deltas: 100% (7/7), done.\n"
     ]
    }
   ],
   "source": [
    "# !git clone https://github.com/anubhavmaity/Sports-Type-Classifier"
   ]
  },
  {
   "cell_type": "markdown",
   "metadata": {},
   "source": [
    "Now let's get started with the code. "
   ]
  },
  {
   "cell_type": "markdown",
   "metadata": {},
   "source": [
    "<h3> 2. Different imports : </h3>"
   ]
  },
  {
   "cell_type": "code",
   "execution_count": 17,
   "metadata": {},
   "outputs": [],
   "source": [
    "# import the necessary packages\n",
    "from keras.preprocessing.image import ImageDataGenerator\n",
    "from keras.layers.pooling import AveragePooling2D\n",
    "from keras.applications import ResNet50\n",
    "from keras.layers.core import Dropout\n",
    "from keras.layers.core import Flatten\n",
    "from keras.layers.core import Dense\n",
    "from keras.layers import Input\n",
    "from keras.models import Model\n",
    "from keras.optimizers import SGD\n",
    "from keras.utils import multi_gpu_model\n",
    "from sklearn.preprocessing import LabelBinarizer\n",
    "from sklearn.model_selection import train_test_split\n",
    "from sklearn.metrics import classification_report\n",
    "from imutils import paths\n",
    "import matplotlib.pyplot as plt\n",
    "import numpy as np\n",
    "import argparse\n",
    "import pickle\n",
    "import cv2\n",
    "import os\n",
    "import matplotlib \n",
    "\n",
    "# Ignore warnings:\n",
    "import warnings\n",
    "warnings.simplefilter('ignore')"
   ]
  },
  {
   "cell_type": "markdown",
   "metadata": {},
   "source": [
    "<h3> 3. Coding : </h3>"
   ]
  },
  {
   "cell_type": "code",
   "execution_count": 3,
   "metadata": {},
   "outputs": [],
   "source": [
    "data_path = 'Sports-Type-Classifier/data'"
   ]
  },
  {
   "cell_type": "markdown",
   "metadata": {},
   "source": [
    "<h4> Data pre-processing </h4>"
   ]
  },
  {
   "cell_type": "code",
   "execution_count": 4,
   "metadata": {},
   "outputs": [
    {
     "name": "stdout",
     "output_type": "stream",
     "text": [
      "[INFO] loading images...\n",
      "[INFO] DONE.\n"
     ]
    }
   ],
   "source": [
    "# initialize the set of labels from the spots activity dataset we are\n",
    "# going to train our network on\n",
    "LABELS = set([\"weight_lifting\", \"tennis\", \"football\", \"basketball\", \"boxing\", \"table_tennis\", \"wwe\", \"volleyball\"])\n",
    " \n",
    "# grab the list of images in our dataset directory, then initialize\n",
    "# the list of data (i.e., images) and class images\n",
    "\n",
    "print(\"[INFO] loading images...\")\n",
    "\n",
    "imagePaths = list(paths.list_images(data_path)) # To load just the images\n",
    "\n",
    "data = []\n",
    "labels = []\n",
    " \n",
    "# loop over the image paths\n",
    "for imagePath in imagePaths:\n",
    "    # extract the class label from the filename\n",
    "    label = imagePath.split(os.path.sep)[-2]\n",
    " \n",
    "    # if the label of the current image is not part of of the labels\n",
    "    # are interested in, then ignore the image\n",
    "    if label not in LABELS:\n",
    "        continue\n",
    "\n",
    "    # load the image, convert it to RGB channel ordering, and resize\n",
    "    # it to be a fixed 224x224 pixels, ignoring aspect ratio\n",
    "    image = cv2.imread(imagePath)\n",
    "    image = cv2.cvtColor(image, cv2.COLOR_BGR2RGB)\n",
    "    image = cv2.resize(image, (224, 224)) # So it's already prepared to train the model\n",
    "\n",
    "    # update the data and labels lists, respectively\n",
    "    data.append(image) # list for all data ( images )\n",
    "    labels.append(label) # list for all labels\n",
    "\n",
    "print(\"[INFO] DONE.\")"
   ]
  },
  {
   "cell_type": "code",
   "execution_count": 5,
   "metadata": {},
   "outputs": [
    {
     "name": "stdout",
     "output_type": "stream",
     "text": [
      "One hot encoding of the labels : (5339, 8)\n",
      "[INFO] Done splitting data.\n"
     ]
    }
   ],
   "source": [
    "# convert the data and labels to NumPy arrays\n",
    "data = np.array(data)\n",
    "labels = np.array(labels)\n",
    " \n",
    "# perform one-hot encoding on the labels\n",
    "lb = LabelBinarizer()\n",
    "labels = lb.fit_transform(labels)\n",
    "print('One hot encoding of the labels :', labels.shape)\n",
    "# partition the data into training and testing splits using 75% of\n",
    "# the data for training and the remaining 25% for testing\n",
    "(trainX, testX, trainY, testY) = train_test_split(data, labels, test_size=0.20, stratify=labels, random_state=42)\n",
    "print('[INFO] Done splitting data.')"
   ]
  },
  {
   "cell_type": "code",
   "execution_count": 6,
   "metadata": {},
   "outputs": [
    {
     "data": {
      "text/plain": [
       "((4271, 224, 224, 3), (1068, 224, 224, 3), (4271, 8), (1068, 8))"
      ]
     },
     "execution_count": 6,
     "metadata": {},
     "output_type": "execute_result"
    }
   ],
   "source": [
    "trainX.shape, testX.shape, trainY.shape, testY.shape"
   ]
  },
  {
   "cell_type": "markdown",
   "metadata": {},
   "source": [
    "We are set to go, dimensions seems to match. "
   ]
  },
  {
   "cell_type": "markdown",
   "metadata": {},
   "source": [
    "<h4> Data augmentation </h4>"
   ]
  },
  {
   "cell_type": "code",
   "execution_count": 7,
   "metadata": {},
   "outputs": [],
   "source": [
    "# initialize the training data augmentation object\n",
    "trainAug = ImageDataGenerator(\n",
    "    rotation_range=30,\n",
    "    zoom_range=0.15,\n",
    "    width_shift_range=0.2,\n",
    "    height_shift_range=0.2,\n",
    "    shear_range=0.15,\n",
    "    horizontal_flip=True,\n",
    "    fill_mode=\"nearest\")\n",
    "\n",
    "\n",
    "# initialize the validation/testing data augmentation object (which\n",
    "# we'll be adding mean subtraction to)\n",
    "valAug = ImageDataGenerator(    \n",
    "    rotation_range=30,\n",
    "    zoom_range=0.15,\n",
    "    width_shift_range=0.2,\n",
    "    height_shift_range=0.2,\n",
    "    shear_range=0.15,\n",
    "    horizontal_flip=True,\n",
    "    fill_mode=\"nearest\")\n",
    "\n",
    "# define the ImageNet mean subtraction (in RGB order) and set the\n",
    "# the mean subtraction value for each of the data augmentation\n",
    "# objects\n",
    "# IMAGE NORMALIZATION :\n",
    "mean = np.array([123.68, 116.779, 103.939], dtype=\"float32\")\n",
    "trainAug.mean = mean\n",
    "valAug.mean = mean"
   ]
  },
  {
   "cell_type": "markdown",
   "metadata": {},
   "source": [
    "<h4> Model  </h4>"
   ]
  },
  {
   "cell_type": "markdown",
   "metadata": {},
   "source": [
    "Transfert learning :"
   ]
  },
  {
   "cell_type": "code",
   "execution_count": 8,
   "metadata": {},
   "outputs": [
    {
     "name": "stdout",
     "output_type": "stream",
     "text": [
      "Downloading data from https://github.com/fchollet/deep-learning-models/releases/download/v0.2/resnet50_weights_tf_dim_ordering_tf_kernels_notop.h5\n",
      "94658560/94653016 [==============================] - 32s 0us/step\n"
     ]
    }
   ],
   "source": [
    "baseModel = ResNet50(weights=\"imagenet\", include_top=False, input_tensor=Input(shape=(224, 224, 3)))\n",
    " \n",
    "# construct the head of the model that will be placed on top of the\n",
    "# the base model\n",
    "headModel = baseModel.output\n",
    "headModel = AveragePooling2D(pool_size=(7, 7))(headModel)\n",
    "headModel = Flatten(name=\"flatten\")(headModel)\n",
    "headModel = Dense(512, activation=\"relu\")(headModel)\n",
    "headModel = Dropout(0.5)(headModel)\n",
    "headModel = Dense(len(lb.classes_), activation=\"softmax\")(headModel)\n",
    " \n",
    "# place the head FC model on top of the base model (this will become\n",
    "# the actual model we will train)\n",
    "model = Model(inputs=baseModel.input, outputs=headModel)\n",
    " \n",
    "# loop over all layers in the base model and freeze them so they will\n",
    "# *not* be updated during the training process\n",
    "for layer in baseModel.layers:\n",
    "    layer.trainable = False"
   ]
  },
  {
   "cell_type": "markdown",
   "metadata": {},
   "source": [
    "Let's compile and train our model :"
   ]
  },
  {
   "cell_type": "code",
   "execution_count": 9,
   "metadata": {},
   "outputs": [],
   "source": [
    "# Let's define some parametrs :\n",
    "nb_epochs = 200"
   ]
  },
  {
   "cell_type": "code",
   "execution_count": 18,
   "metadata": {},
   "outputs": [
    {
     "name": "stdout",
     "output_type": "stream",
     "text": [
      "[INFO] compiling model...\n"
     ]
    }
   ],
   "source": [
    "print(\"[INFO] compiling model...\")\n",
    "opt = SGD(lr=1e-4, momentum=0.9, decay=1e-4 / nb_epochs)\n",
    "\n",
    "model = multi_gpu_model(model, gpus=2)\n",
    "\n",
    "model.compile(loss=\"categorical_crossentropy\", optimizer=opt, metrics=[\"accuracy\"])"
   ]
  },
  {
   "cell_type": "markdown",
   "metadata": {},
   "source": [
    "Now, I'll add some useful callbacks :"
   ]
  },
  {
   "cell_type": "code",
   "execution_count": 14,
   "metadata": {},
   "outputs": [],
   "source": [
    "# Early stopping & checkpointing the best model in ../working dir & restoring that as our model for prediction\n",
    "from tensorflow.python.keras.callbacks import EarlyStopping, ModelCheckpoint\n",
    "\n",
    "cb_early_stopper = EarlyStopping(monitor = 'val_acc', patience=50)\n",
    "cb_checkpointer = ModelCheckpoint(filepath = 'video_classification.hdf5', monitor = 'val_acc', save_best_only = True, mode = 'auto')"
   ]
  },
  {
   "cell_type": "code",
   "execution_count": 19,
   "metadata": {
    "scrolled": true
   },
   "outputs": [
    {
     "name": "stdout",
     "output_type": "stream",
     "text": [
      "[INFO] training head...\n",
      "Epoch 1/200\n",
      "133/133 [==============================] - 37s 277ms/step - loss: 0.8131 - acc: 0.7270 - val_loss: 0.8456 - val_acc: 0.7064\n",
      "Epoch 2/200\n",
      "133/133 [==============================] - 33s 245ms/step - loss: 0.8110 - acc: 0.7283 - val_loss: 0.8369 - val_acc: 0.7210\n",
      "Epoch 3/200\n",
      "133/133 [==============================] - 33s 247ms/step - loss: 0.7807 - acc: 0.7346 - val_loss: 0.8404 - val_acc: 0.7114\n",
      "Epoch 4/200\n",
      "133/133 [==============================] - 34s 254ms/step - loss: 0.7821 - acc: 0.7366 - val_loss: 0.8456 - val_acc: 0.7268\n",
      "Epoch 5/200\n",
      "133/133 [==============================] - 33s 251ms/step - loss: 0.7615 - acc: 0.7401 - val_loss: 0.7839 - val_acc: 0.7432\n",
      "Epoch 6/200\n",
      "133/133 [==============================] - 33s 246ms/step - loss: 0.7529 - acc: 0.7480 - val_loss: 0.8405 - val_acc: 0.7249\n",
      "Epoch 7/200\n",
      "133/133 [==============================] - 32s 243ms/step - loss: 0.7593 - acc: 0.7428 - val_loss: 0.8274 - val_acc: 0.7172\n",
      "Epoch 8/200\n",
      "133/133 [==============================] - 33s 244ms/step - loss: 0.7410 - acc: 0.7510 - val_loss: 0.8262 - val_acc: 0.7181\n",
      "Epoch 9/200\n",
      "133/133 [==============================] - 32s 242ms/step - loss: 0.7469 - acc: 0.7466 - val_loss: 0.7719 - val_acc: 0.7384\n",
      "Epoch 10/200\n",
      "133/133 [==============================] - 33s 252ms/step - loss: 0.7252 - acc: 0.7495 - val_loss: 0.7754 - val_acc: 0.7413\n",
      "Epoch 11/200\n",
      "133/133 [==============================] - 34s 257ms/step - loss: 0.7205 - acc: 0.7592 - val_loss: 0.7817 - val_acc: 0.7423\n",
      "Epoch 12/200\n",
      "133/133 [==============================] - 34s 253ms/step - loss: 0.7155 - acc: 0.7623 - val_loss: 0.8425 - val_acc: 0.7162\n",
      "Epoch 13/200\n",
      "133/133 [==============================] - 33s 251ms/step - loss: 0.7043 - acc: 0.7623 - val_loss: 0.7881 - val_acc: 0.7481\n",
      "Epoch 14/200\n",
      "133/133 [==============================] - 33s 249ms/step - loss: 0.6813 - acc: 0.7627 - val_loss: 0.7867 - val_acc: 0.7461\n",
      "Epoch 15/200\n",
      "133/133 [==============================] - 32s 242ms/step - loss: 0.6805 - acc: 0.7674 - val_loss: 0.7649 - val_acc: 0.7384\n",
      "Epoch 16/200\n",
      "133/133 [==============================] - 32s 237ms/step - loss: 0.6915 - acc: 0.7744 - val_loss: 0.8193 - val_acc: 0.7259\n",
      "Epoch 17/200\n",
      "133/133 [==============================] - 32s 239ms/step - loss: 0.6861 - acc: 0.7703 - val_loss: 0.7744 - val_acc: 0.7471\n",
      "Epoch 18/200\n",
      "133/133 [==============================] - 32s 243ms/step - loss: 0.6655 - acc: 0.7770 - val_loss: 0.7950 - val_acc: 0.7317\n",
      "Epoch 19/200\n",
      "133/133 [==============================] - 33s 247ms/step - loss: 0.6768 - acc: 0.7677 - val_loss: 0.7952 - val_acc: 0.7317\n",
      "Epoch 20/200\n",
      "133/133 [==============================] - 34s 254ms/step - loss: 0.6604 - acc: 0.7766 - val_loss: 0.7737 - val_acc: 0.7481\n",
      "Epoch 21/200\n",
      "133/133 [==============================] - 33s 248ms/step - loss: 0.6508 - acc: 0.7814 - val_loss: 0.8142 - val_acc: 0.7355\n",
      "Epoch 22/200\n",
      "133/133 [==============================] - 33s 249ms/step - loss: 0.6551 - acc: 0.7755 - val_loss: 0.7637 - val_acc: 0.7375\n",
      "Epoch 23/200\n",
      "133/133 [==============================] - 35s 260ms/step - loss: 0.6376 - acc: 0.7781 - val_loss: 0.8205 - val_acc: 0.7249\n",
      "Epoch 24/200\n",
      "133/133 [==============================] - 34s 254ms/step - loss: 0.6766 - acc: 0.7707 - val_loss: 0.7167 - val_acc: 0.7597\n",
      "Epoch 25/200\n",
      "133/133 [==============================] - 34s 255ms/step - loss: 0.6546 - acc: 0.7767 - val_loss: 0.7811 - val_acc: 0.7375\n",
      "Epoch 26/200\n",
      "133/133 [==============================] - 34s 255ms/step - loss: 0.6151 - acc: 0.8036 - val_loss: 0.7749 - val_acc: 0.7230\n",
      "Epoch 27/200\n",
      "133/133 [==============================] - 34s 253ms/step - loss: 0.6397 - acc: 0.7781 - val_loss: 0.7987 - val_acc: 0.7210\n",
      "Epoch 28/200\n",
      "133/133 [==============================] - 34s 253ms/step - loss: 0.6394 - acc: 0.7915 - val_loss: 0.7614 - val_acc: 0.7442\n",
      "Epoch 29/200\n",
      "133/133 [==============================] - 33s 251ms/step - loss: 0.6227 - acc: 0.7867 - val_loss: 0.7953 - val_acc: 0.7394\n",
      "Epoch 30/200\n",
      "133/133 [==============================] - 34s 252ms/step - loss: 0.6176 - acc: 0.7889 - val_loss: 0.7761 - val_acc: 0.7442\n",
      "Epoch 31/200\n",
      "133/133 [==============================] - 34s 255ms/step - loss: 0.6127 - acc: 0.7995 - val_loss: 0.7703 - val_acc: 0.7326\n",
      "Epoch 32/200\n",
      "133/133 [==============================] - 34s 253ms/step - loss: 0.6258 - acc: 0.7881 - val_loss: 0.7639 - val_acc: 0.7432\n",
      "Epoch 33/200\n",
      "133/133 [==============================] - 34s 252ms/step - loss: 0.6167 - acc: 0.7934 - val_loss: 0.7619 - val_acc: 0.7490\n",
      "Epoch 34/200\n",
      "133/133 [==============================] - 34s 255ms/step - loss: 0.6043 - acc: 0.7952 - val_loss: 0.7562 - val_acc: 0.7510\n",
      "Epoch 35/200\n",
      "133/133 [==============================] - 34s 253ms/step - loss: 0.6082 - acc: 0.7898 - val_loss: 0.7867 - val_acc: 0.7396\n",
      "Epoch 36/200\n",
      "133/133 [==============================] - 34s 255ms/step - loss: 0.6001 - acc: 0.7906 - val_loss: 0.7455 - val_acc: 0.7587\n",
      "Epoch 37/200\n",
      "133/133 [==============================] - 34s 255ms/step - loss: 0.5796 - acc: 0.8000 - val_loss: 0.7760 - val_acc: 0.7529\n",
      "Epoch 38/200\n",
      "133/133 [==============================] - 34s 253ms/step - loss: 0.6029 - acc: 0.7969 - val_loss: 0.7995 - val_acc: 0.7432\n",
      "Epoch 39/200\n",
      "133/133 [==============================] - 34s 253ms/step - loss: 0.5972 - acc: 0.7943 - val_loss: 0.7164 - val_acc: 0.7548\n",
      "Epoch 40/200\n",
      "133/133 [==============================] - 34s 254ms/step - loss: 0.5878 - acc: 0.8063 - val_loss: 0.7743 - val_acc: 0.7481\n",
      "Epoch 41/200\n",
      "133/133 [==============================] - 34s 257ms/step - loss: 0.5845 - acc: 0.8041 - val_loss: 0.7541 - val_acc: 0.7452\n",
      "Epoch 42/200\n",
      "133/133 [==============================] - 34s 255ms/step - loss: 0.5636 - acc: 0.8124 - val_loss: 0.7925 - val_acc: 0.7490\n",
      "Epoch 43/200\n",
      "133/133 [==============================] - 34s 256ms/step - loss: 0.5783 - acc: 0.8042 - val_loss: 0.7582 - val_acc: 0.7452\n",
      "Epoch 44/200\n",
      "133/133 [==============================] - 34s 252ms/step - loss: 0.5594 - acc: 0.8079 - val_loss: 0.7992 - val_acc: 0.7326\n",
      "Epoch 45/200\n",
      "133/133 [==============================] - 34s 254ms/step - loss: 0.5694 - acc: 0.8018 - val_loss: 0.7497 - val_acc: 0.7481\n",
      "Epoch 46/200\n",
      "133/133 [==============================] - 34s 258ms/step - loss: 0.5649 - acc: 0.8053 - val_loss: 0.7854 - val_acc: 0.7384\n",
      "Epoch 47/200\n",
      "133/133 [==============================] - 33s 251ms/step - loss: 0.5657 - acc: 0.8118 - val_loss: 0.7360 - val_acc: 0.7645\n",
      "Epoch 48/200\n",
      "133/133 [==============================] - 34s 253ms/step - loss: 0.5580 - acc: 0.8115 - val_loss: 0.7973 - val_acc: 0.7375\n",
      "Epoch 49/200\n",
      "133/133 [==============================] - 34s 253ms/step - loss: 0.5557 - acc: 0.8096 - val_loss: 0.7366 - val_acc: 0.7461\n",
      "Epoch 50/200\n",
      "133/133 [==============================] - 34s 253ms/step - loss: 0.5438 - acc: 0.8178 - val_loss: 0.7593 - val_acc: 0.7597\n",
      "Epoch 51/200\n",
      "133/133 [==============================] - 33s 250ms/step - loss: 0.5597 - acc: 0.8020 - val_loss: 0.7317 - val_acc: 0.7568\n",
      "Epoch 52/200\n",
      "133/133 [==============================] - 34s 254ms/step - loss: 0.5521 - acc: 0.8171 - val_loss: 0.8103 - val_acc: 0.7442\n",
      "Epoch 53/200\n",
      "133/133 [==============================] - 32s 242ms/step - loss: 0.5374 - acc: 0.8183 - val_loss: 0.7388 - val_acc: 0.7568\n",
      "Epoch 54/200\n",
      "133/133 [==============================] - 32s 240ms/step - loss: 0.5519 - acc: 0.8099 - val_loss: 0.7673 - val_acc: 0.7403\n",
      "Epoch 55/200\n",
      "133/133 [==============================] - 32s 241ms/step - loss: 0.5315 - acc: 0.8185 - val_loss: 0.7691 - val_acc: 0.7481\n",
      "Epoch 56/200\n",
      "133/133 [==============================] - 32s 242ms/step - loss: 0.5445 - acc: 0.8128 - val_loss: 0.7689 - val_acc: 0.7471\n",
      "Epoch 57/200\n",
      "133/133 [==============================] - 33s 250ms/step - loss: 0.5200 - acc: 0.8255 - val_loss: 0.7781 - val_acc: 0.7481\n",
      "Epoch 58/200\n",
      "133/133 [==============================] - 33s 245ms/step - loss: 0.5301 - acc: 0.8246 - val_loss: 0.7339 - val_acc: 0.7577\n",
      "Epoch 59/200\n",
      "133/133 [==============================] - 32s 241ms/step - loss: 0.5224 - acc: 0.8204 - val_loss: 0.7663 - val_acc: 0.7539\n",
      "Epoch 60/200\n",
      "133/133 [==============================] - 32s 241ms/step - loss: 0.5237 - acc: 0.8272 - val_loss: 0.8025 - val_acc: 0.7432\n"
     ]
    },
    {
     "name": "stdout",
     "output_type": "stream",
     "text": [
      "Epoch 61/200\n",
      "133/133 [==============================] - 32s 243ms/step - loss: 0.5214 - acc: 0.8234 - val_loss: 0.7396 - val_acc: 0.7674\n",
      "Epoch 62/200\n",
      "133/133 [==============================] - 32s 243ms/step - loss: 0.5101 - acc: 0.8254 - val_loss: 0.7811 - val_acc: 0.7490\n",
      "Epoch 63/200\n",
      "133/133 [==============================] - 32s 240ms/step - loss: 0.5251 - acc: 0.8225 - val_loss: 0.7621 - val_acc: 0.7548\n",
      "Epoch 64/200\n",
      "133/133 [==============================] - 33s 246ms/step - loss: 0.5285 - acc: 0.8239 - val_loss: 0.7247 - val_acc: 0.7510\n",
      "Epoch 65/200\n",
      "133/133 [==============================] - 32s 240ms/step - loss: 0.5038 - acc: 0.8225 - val_loss: 0.7613 - val_acc: 0.7481\n",
      "Epoch 66/200\n",
      "133/133 [==============================] - 32s 242ms/step - loss: 0.5131 - acc: 0.8257 - val_loss: 0.7771 - val_acc: 0.7548\n",
      "Epoch 67/200\n",
      "133/133 [==============================] - 32s 241ms/step - loss: 0.5334 - acc: 0.8241 - val_loss: 0.7449 - val_acc: 0.7587\n",
      "Epoch 68/200\n",
      "133/133 [==============================] - 32s 241ms/step - loss: 0.5091 - acc: 0.8271 - val_loss: 0.7680 - val_acc: 0.7558\n",
      "Epoch 69/200\n",
      "133/133 [==============================] - 32s 242ms/step - loss: 0.4994 - acc: 0.8288 - val_loss: 0.7676 - val_acc: 0.7566\n",
      "Epoch 70/200\n",
      "133/133 [==============================] - 32s 242ms/step - loss: 0.4933 - acc: 0.8373 - val_loss: 0.7887 - val_acc: 0.7432\n",
      "Epoch 71/200\n",
      "133/133 [==============================] - 32s 241ms/step - loss: 0.5076 - acc: 0.8249 - val_loss: 0.7759 - val_acc: 0.7481\n",
      "Epoch 72/200\n",
      "133/133 [==============================] - 32s 243ms/step - loss: 0.4935 - acc: 0.8348 - val_loss: 0.7368 - val_acc: 0.7645\n",
      "Epoch 73/200\n",
      "133/133 [==============================] - 32s 241ms/step - loss: 0.5054 - acc: 0.8272 - val_loss: 0.7628 - val_acc: 0.7510\n",
      "Epoch 74/200\n",
      "133/133 [==============================] - 32s 242ms/step - loss: 0.5061 - acc: 0.8303 - val_loss: 0.8224 - val_acc: 0.7336\n",
      "Epoch 75/200\n",
      "133/133 [==============================] - 32s 243ms/step - loss: 0.4917 - acc: 0.8378 - val_loss: 0.7832 - val_acc: 0.7548\n",
      "Epoch 76/200\n",
      "133/133 [==============================] - 32s 243ms/step - loss: 0.4974 - acc: 0.8329 - val_loss: 0.7980 - val_acc: 0.7471\n",
      "Epoch 77/200\n",
      "133/133 [==============================] - 33s 247ms/step - loss: 0.4783 - acc: 0.8394 - val_loss: 0.7749 - val_acc: 0.7529\n",
      "Epoch 78/200\n",
      "133/133 [==============================] - 33s 248ms/step - loss: 0.5013 - acc: 0.8298 - val_loss: 0.7625 - val_acc: 0.7587\n",
      "Epoch 79/200\n",
      "133/133 [==============================] - 33s 247ms/step - loss: 0.4865 - acc: 0.8359 - val_loss: 0.8272 - val_acc: 0.7423\n",
      "Epoch 80/200\n",
      "133/133 [==============================] - 33s 245ms/step - loss: 0.4849 - acc: 0.8334 - val_loss: 0.7685 - val_acc: 0.7394\n",
      "Epoch 81/200\n",
      "133/133 [==============================] - 32s 241ms/step - loss: 0.4913 - acc: 0.8307 - val_loss: 0.7405 - val_acc: 0.7597\n",
      "Epoch 82/200\n",
      "133/133 [==============================] - 32s 243ms/step - loss: 0.5092 - acc: 0.8267 - val_loss: 0.7856 - val_acc: 0.7606\n",
      "Epoch 83/200\n",
      "133/133 [==============================] - 32s 243ms/step - loss: 0.4907 - acc: 0.8291 - val_loss: 0.7765 - val_acc: 0.7529\n",
      "Epoch 84/200\n",
      "133/133 [==============================] - 32s 241ms/step - loss: 0.5041 - acc: 0.8284 - val_loss: 0.7646 - val_acc: 0.7403\n",
      "Epoch 85/200\n",
      "133/133 [==============================] - 32s 244ms/step - loss: 0.4818 - acc: 0.8414 - val_loss: 0.7399 - val_acc: 0.7529\n",
      "Epoch 86/200\n",
      "133/133 [==============================] - 32s 244ms/step - loss: 0.4887 - acc: 0.8387 - val_loss: 0.7938 - val_acc: 0.7375\n",
      "Epoch 87/200\n",
      "133/133 [==============================] - 32s 244ms/step - loss: 0.4983 - acc: 0.8259 - val_loss: 0.7451 - val_acc: 0.7674\n",
      "Epoch 88/200\n",
      "133/133 [==============================] - 32s 241ms/step - loss: 0.4654 - acc: 0.8393 - val_loss: 0.7970 - val_acc: 0.7365\n",
      "Epoch 89/200\n",
      "133/133 [==============================] - 32s 244ms/step - loss: 0.4777 - acc: 0.8338 - val_loss: 0.8249 - val_acc: 0.7413\n",
      "Epoch 90/200\n",
      "133/133 [==============================] - 33s 245ms/step - loss: 0.4841 - acc: 0.8343 - val_loss: 0.7658 - val_acc: 0.7413\n",
      "Epoch 91/200\n",
      "133/133 [==============================] - 32s 244ms/step - loss: 0.4715 - acc: 0.8432 - val_loss: 0.7312 - val_acc: 0.7712\n",
      "Epoch 92/200\n",
      "133/133 [==============================] - 33s 246ms/step - loss: 0.4729 - acc: 0.8435 - val_loss: 0.8172 - val_acc: 0.7510\n",
      "Epoch 93/200\n",
      "133/133 [==============================] - 33s 246ms/step - loss: 0.4726 - acc: 0.8399 - val_loss: 0.7667 - val_acc: 0.7394\n",
      "Epoch 94/200\n",
      "133/133 [==============================] - 33s 247ms/step - loss: 0.4558 - acc: 0.8427 - val_loss: 0.7701 - val_acc: 0.7568\n",
      "Epoch 95/200\n",
      "133/133 [==============================] - 32s 242ms/step - loss: 0.4805 - acc: 0.8328 - val_loss: 0.8015 - val_acc: 0.7529\n",
      "Epoch 96/200\n",
      "133/133 [==============================] - 32s 242ms/step - loss: 0.4780 - acc: 0.8375 - val_loss: 0.7784 - val_acc: 0.7403\n",
      "Epoch 97/200\n",
      "133/133 [==============================] - 32s 242ms/step - loss: 0.4515 - acc: 0.8500 - val_loss: 0.7544 - val_acc: 0.7500\n",
      "Epoch 98/200\n",
      "133/133 [==============================] - 32s 243ms/step - loss: 0.4758 - acc: 0.8354 - val_loss: 0.7825 - val_acc: 0.7635\n",
      "Epoch 99/200\n",
      "133/133 [==============================] - 34s 253ms/step - loss: 0.4595 - acc: 0.8468 - val_loss: 0.8037 - val_acc: 0.7394\n",
      "Epoch 100/200\n",
      "133/133 [==============================] - 33s 246ms/step - loss: 0.4574 - acc: 0.8400 - val_loss: 0.7864 - val_acc: 0.7587\n",
      "Epoch 101/200\n",
      "133/133 [==============================] - 32s 243ms/step - loss: 0.4706 - acc: 0.8412 - val_loss: 0.7866 - val_acc: 0.7568\n",
      "Epoch 102/200\n",
      "133/133 [==============================] - 33s 246ms/step - loss: 0.4392 - acc: 0.8512 - val_loss: 0.7912 - val_acc: 0.7606\n",
      "Epoch 103/200\n",
      "133/133 [==============================] - 34s 258ms/step - loss: 0.4701 - acc: 0.8456 - val_loss: 0.7600 - val_acc: 0.7566\n",
      "Epoch 104/200\n",
      "133/133 [==============================] - 34s 254ms/step - loss: 0.4507 - acc: 0.8455 - val_loss: 0.7559 - val_acc: 0.7693\n",
      "Epoch 105/200\n",
      "133/133 [==============================] - 34s 252ms/step - loss: 0.4613 - acc: 0.8472 - val_loss: 0.7545 - val_acc: 0.7461\n",
      "Epoch 106/200\n",
      "133/133 [==============================] - 34s 254ms/step - loss: 0.4456 - acc: 0.8469 - val_loss: 0.7239 - val_acc: 0.7751\n",
      "Epoch 107/200\n",
      "133/133 [==============================] - 33s 251ms/step - loss: 0.4586 - acc: 0.8370 - val_loss: 0.7451 - val_acc: 0.7548\n",
      "Epoch 108/200\n",
      "133/133 [==============================] - 33s 245ms/step - loss: 0.4584 - acc: 0.8451 - val_loss: 0.8145 - val_acc: 0.7471\n",
      "Epoch 109/200\n",
      "133/133 [==============================] - 33s 248ms/step - loss: 0.4566 - acc: 0.8425 - val_loss: 0.7221 - val_acc: 0.7741\n",
      "Epoch 110/200\n",
      "133/133 [==============================] - 33s 249ms/step - loss: 0.4310 - acc: 0.8510 - val_loss: 0.8143 - val_acc: 0.7317\n",
      "Epoch 111/200\n",
      "133/133 [==============================] - 33s 246ms/step - loss: 0.4495 - acc: 0.8446 - val_loss: 0.7378 - val_acc: 0.7693\n",
      "Epoch 112/200\n",
      "133/133 [==============================] - 33s 247ms/step - loss: 0.4545 - acc: 0.8526 - val_loss: 0.7540 - val_acc: 0.7519\n",
      "Epoch 113/200\n",
      "133/133 [==============================] - 33s 247ms/step - loss: 0.4540 - acc: 0.8430 - val_loss: 0.8449 - val_acc: 0.7394\n",
      "Epoch 114/200\n",
      "133/133 [==============================] - 33s 246ms/step - loss: 0.4269 - acc: 0.8580 - val_loss: 0.7699 - val_acc: 0.7548\n",
      "Epoch 115/200\n",
      "133/133 [==============================] - 33s 245ms/step - loss: 0.4489 - acc: 0.8422 - val_loss: 0.7963 - val_acc: 0.7568\n",
      "Epoch 116/200\n",
      "133/133 [==============================] - 33s 247ms/step - loss: 0.4287 - acc: 0.8545 - val_loss: 0.7649 - val_acc: 0.7577\n",
      "Epoch 117/200\n",
      "133/133 [==============================] - 33s 248ms/step - loss: 0.4373 - acc: 0.8521 - val_loss: 0.7667 - val_acc: 0.7722\n",
      "Epoch 118/200\n",
      "133/133 [==============================] - 34s 254ms/step - loss: 0.4442 - acc: 0.8475 - val_loss: 0.7534 - val_acc: 0.7616\n",
      "Epoch 119/200\n",
      "133/133 [==============================] - 32s 242ms/step - loss: 0.4496 - acc: 0.8474 - val_loss: 0.7888 - val_acc: 0.7654\n",
      "Epoch 120/200\n"
     ]
    },
    {
     "name": "stdout",
     "output_type": "stream",
     "text": [
      "133/133 [==============================] - 33s 249ms/step - loss: 0.4368 - acc: 0.8557 - val_loss: 0.7085 - val_acc: 0.7703\n",
      "Epoch 121/200\n",
      "133/133 [==============================] - 33s 250ms/step - loss: 0.4430 - acc: 0.8487 - val_loss: 0.8395 - val_acc: 0.7365\n",
      "Epoch 122/200\n",
      "133/133 [==============================] - 33s 246ms/step - loss: 0.4384 - acc: 0.8523 - val_loss: 0.7774 - val_acc: 0.7597\n",
      "Epoch 123/200\n",
      "133/133 [==============================] - 33s 248ms/step - loss: 0.4306 - acc: 0.8517 - val_loss: 0.7290 - val_acc: 0.7664\n",
      "Epoch 124/200\n",
      "133/133 [==============================] - 32s 242ms/step - loss: 0.4480 - acc: 0.8481 - val_loss: 0.7625 - val_acc: 0.7481\n",
      "Epoch 125/200\n",
      "133/133 [==============================] - 32s 241ms/step - loss: 0.4339 - acc: 0.8526 - val_loss: 0.7804 - val_acc: 0.7712\n",
      "Epoch 126/200\n",
      "133/133 [==============================] - 32s 243ms/step - loss: 0.4209 - acc: 0.8566 - val_loss: 0.7703 - val_acc: 0.7510\n",
      "Epoch 127/200\n",
      "133/133 [==============================] - 32s 241ms/step - loss: 0.4395 - acc: 0.8491 - val_loss: 0.7993 - val_acc: 0.7625\n",
      "Epoch 128/200\n",
      "133/133 [==============================] - 32s 243ms/step - loss: 0.4281 - acc: 0.8582 - val_loss: 0.7919 - val_acc: 0.7423\n",
      "Epoch 129/200\n",
      "133/133 [==============================] - 32s 244ms/step - loss: 0.4178 - acc: 0.8593 - val_loss: 0.7962 - val_acc: 0.7693\n",
      "Epoch 130/200\n",
      "133/133 [==============================] - 32s 244ms/step - loss: 0.4292 - acc: 0.8538 - val_loss: 0.7294 - val_acc: 0.7732\n",
      "Epoch 131/200\n",
      "133/133 [==============================] - 32s 244ms/step - loss: 0.4255 - acc: 0.8598 - val_loss: 0.7771 - val_acc: 0.7490\n",
      "Epoch 132/200\n",
      "133/133 [==============================] - 32s 241ms/step - loss: 0.4491 - acc: 0.8481 - val_loss: 0.7293 - val_acc: 0.7693\n",
      "Epoch 133/200\n",
      "133/133 [==============================] - 32s 243ms/step - loss: 0.4298 - acc: 0.8533 - val_loss: 0.7529 - val_acc: 0.7645\n",
      "Epoch 134/200\n",
      "133/133 [==============================] - 32s 242ms/step - loss: 0.4241 - acc: 0.8585 - val_loss: 0.7914 - val_acc: 0.7606\n",
      "Epoch 135/200\n",
      "133/133 [==============================] - 33s 248ms/step - loss: 0.4283 - acc: 0.8562 - val_loss: 0.7522 - val_acc: 0.7741\n",
      "Epoch 136/200\n",
      "133/133 [==============================] - 32s 242ms/step - loss: 0.4276 - acc: 0.8537 - val_loss: 0.7992 - val_acc: 0.7461\n",
      "Epoch 137/200\n",
      "133/133 [==============================] - 33s 245ms/step - loss: 0.4249 - acc: 0.8538 - val_loss: 0.7777 - val_acc: 0.7633\n",
      "Epoch 138/200\n",
      "133/133 [==============================] - 32s 243ms/step - loss: 0.4209 - acc: 0.8573 - val_loss: 0.7807 - val_acc: 0.7616\n",
      "Epoch 139/200\n",
      "133/133 [==============================] - 33s 245ms/step - loss: 0.4255 - acc: 0.8596 - val_loss: 0.7843 - val_acc: 0.7452\n",
      "Epoch 140/200\n",
      "133/133 [==============================] - 32s 242ms/step - loss: 0.4045 - acc: 0.8646 - val_loss: 0.7943 - val_acc: 0.7490\n",
      "Epoch 141/200\n",
      "133/133 [==============================] - 33s 244ms/step - loss: 0.4077 - acc: 0.8587 - val_loss: 0.7759 - val_acc: 0.7519\n",
      "Epoch 142/200\n",
      "133/133 [==============================] - 33s 244ms/step - loss: 0.4217 - acc: 0.8514 - val_loss: 0.7701 - val_acc: 0.7558\n",
      "Epoch 143/200\n",
      "133/133 [==============================] - 33s 245ms/step - loss: 0.3983 - acc: 0.8592 - val_loss: 0.7697 - val_acc: 0.7577\n",
      "Epoch 144/200\n",
      "133/133 [==============================] - 33s 245ms/step - loss: 0.4092 - acc: 0.8569 - val_loss: 0.7914 - val_acc: 0.7587\n",
      "Epoch 145/200\n",
      "133/133 [==============================] - 32s 243ms/step - loss: 0.4173 - acc: 0.8589 - val_loss: 0.7602 - val_acc: 0.7568\n",
      "Epoch 146/200\n",
      "133/133 [==============================] - 33s 246ms/step - loss: 0.4249 - acc: 0.8516 - val_loss: 0.7234 - val_acc: 0.7587\n",
      "Epoch 147/200\n",
      "133/133 [==============================] - 33s 244ms/step - loss: 0.3997 - acc: 0.8635 - val_loss: 0.8414 - val_acc: 0.7597\n",
      "Epoch 148/200\n",
      "133/133 [==============================] - 33s 246ms/step - loss: 0.4071 - acc: 0.8648 - val_loss: 0.7648 - val_acc: 0.7606\n",
      "Epoch 149/200\n",
      "133/133 [==============================] - 33s 246ms/step - loss: 0.4080 - acc: 0.8629 - val_loss: 0.8415 - val_acc: 0.7375\n",
      "Epoch 150/200\n",
      "133/133 [==============================] - 32s 243ms/step - loss: 0.4056 - acc: 0.8617 - val_loss: 0.8271 - val_acc: 0.7375\n",
      "Epoch 151/200\n",
      "133/133 [==============================] - 32s 244ms/step - loss: 0.4006 - acc: 0.8663 - val_loss: 0.7123 - val_acc: 0.7712\n",
      "Epoch 152/200\n",
      "133/133 [==============================] - 33s 245ms/step - loss: 0.4029 - acc: 0.8658 - val_loss: 0.7902 - val_acc: 0.7645\n",
      "Epoch 153/200\n",
      "133/133 [==============================] - 33s 247ms/step - loss: 0.4159 - acc: 0.8593 - val_loss: 0.8079 - val_acc: 0.7471\n",
      "Epoch 154/200\n",
      "133/133 [==============================] - 32s 242ms/step - loss: 0.3975 - acc: 0.8735 - val_loss: 0.7799 - val_acc: 0.7654\n",
      "Epoch 155/200\n",
      "133/133 [==============================] - 32s 241ms/step - loss: 0.4049 - acc: 0.8603 - val_loss: 0.7849 - val_acc: 0.7597\n",
      "Epoch 156/200\n",
      "133/133 [==============================] - 32s 243ms/step - loss: 0.4091 - acc: 0.8559 - val_loss: 0.7895 - val_acc: 0.7365\n"
     ]
    }
   ],
   "source": [
    "# train the head of the network for a few epochs (all other layers\n",
    "# are frozen) -- this will allow the new FC layers to start to become\n",
    "# initialized with actual \"learned\" values versus pure random\n",
    "print(\"[INFO] training head...\")\n",
    "H = model.fit_generator(\n",
    "    trainAug.flow(trainX, trainY, batch_size=32),\n",
    "    steps_per_epoch=len(trainX) // 32,\n",
    "    validation_data=valAug.flow(testX, testY),\n",
    "    validation_steps=len(testX) // 32,\n",
    "    epochs=nb_epochs,\n",
    "    callbacks=[cb_early_stopper, cb_checkpointer])"
   ]
  },
  {
   "cell_type": "markdown",
   "metadata": {},
   "source": [
    "<h4> Loading the model </h4>"
   ]
  },
  {
   "cell_type": "code",
   "execution_count": 20,
   "metadata": {},
   "outputs": [],
   "source": [
    "from keras.models import load_model\n",
    "model = load_model('video_classification.hdf5')"
   ]
  },
  {
   "cell_type": "markdown",
   "metadata": {},
   "source": [
    "<h4> Model evaluation </h4>"
   ]
  },
  {
   "cell_type": "code",
   "execution_count": 21,
   "metadata": {},
   "outputs": [
    {
     "name": "stdout",
     "output_type": "stream",
     "text": [
      "[INFO] evaluating network...\n",
      "                precision    recall  f1-score   support\n",
      "\n",
      "    basketball       0.70      0.88      0.78        98\n",
      "        boxing       0.75      0.82      0.79       141\n",
      "      football       0.94      0.92      0.93       157\n",
      "  table_tennis       0.98      0.65      0.78       141\n",
      "        tennis       0.82      0.90      0.86       143\n",
      "    volleyball       0.73      0.89      0.81       141\n",
      "weight_lifting       0.82      0.88      0.85       114\n",
      "           wwe       0.86      0.59      0.70       133\n",
      "\n",
      "     micro avg       0.82      0.82      0.82      1068\n",
      "     macro avg       0.82      0.82      0.81      1068\n",
      "  weighted avg       0.83      0.82      0.81      1068\n",
      "\n"
     ]
    }
   ],
   "source": [
    "# evaluate the network\n",
    "print(\"[INFO] evaluating network...\")\n",
    "predictions = model.predict(testX, batch_size=32)\n",
    "print(classification_report(testY.argmax(axis=1),\n",
    "    predictions.argmax(axis=1), target_names=lb.classes_))"
   ]
  },
  {
   "cell_type": "code",
   "execution_count": 24,
   "metadata": {},
   "outputs": [
    {
     "data": {
      "text/plain": [
       "<matplotlib.legend.Legend at 0x7fd5c3f1a8d0>"
      ]
     },
     "execution_count": 24,
     "metadata": {},
     "output_type": "execute_result"
    },
    {
     "data": {
      "image/png": "[encoded data removed]",
      "text/plain": [
       "<Figure size 432x288 with 1 Axes>"
      ]
     },
     "metadata": {},
     "output_type": "display_data"
    }
   ],
   "source": [
    "# plot the training loss and accuracy\n",
    "N = 156\n",
    "plt.style.use(\"ggplot\")\n",
    "plt.figure()\n",
    "plt.plot(np.arange(0, N), H.history[\"loss\"], label=\"train_loss\")\n",
    "plt.plot(np.arange(0, N), H.history[\"val_loss\"], label=\"val_loss\")\n",
    "plt.plot(np.arange(0, N), H.history[\"acc\"], label=\"train_acc\")\n",
    "plt.plot(np.arange(0, N), H.history[\"val_acc\"], label=\"val_acc\")\n",
    "plt.title(\"Training Loss and Accuracy on Dataset\")\n",
    "plt.xlabel(\"Epoch #\")\n",
    "plt.ylabel(\"Loss/Accuracy\")\n",
    "plt.legend(loc=\"lower left\")"
   ]
  },
  {
   "cell_type": "markdown",
   "metadata": {},
   "source": [
    "<h3> 4. Video classification with the rolling prediction averaging : </h3>"
   ]
  },
  {
   "cell_type": "code",
   "execution_count": 26,
   "metadata": {},
   "outputs": [],
   "source": [
    "# initialize the image mean for mean subtraction along with the\n",
    "# predictions queue : \n",
    "# We will be using deque from collections \n",
    "from collections import deque\n",
    "\n",
    "mean = np.array([123.68, 116.779, 103.939], dtype=\"float32\")\n",
    "Q = deque(maxlen=150)"
   ]
  },
  {
   "cell_type": "markdown",
   "metadata": {},
   "source": [
    "Queue size will be equal to 150."
   ]
  },
  {
   "cell_type": "code",
   "execution_count": 27,
   "metadata": {},
   "outputs": [],
   "source": [
    "video_name = 'videoplayback.mp4'"
   ]
  },
  {
   "cell_type": "code",
   "execution_count": 28,
   "metadata": {},
   "outputs": [
    {
     "name": "stdout",
     "output_type": "stream",
     "text": [
      "[INFO] cleaning up...\n"
     ]
    }
   ],
   "source": [
    "# initialize the video stream, pointer to output video file, and\n",
    "# frame dimensions\n",
    "vs = cv2.VideoCapture(video_name)\n",
    "writer = None\n",
    "(W, H) = (None, None)\n",
    " \n",
    "# loop over frames from the video file stream\n",
    "while True:\n",
    "    # read the next frame from the file\n",
    "    (grabbed, frame) = vs.read()\n",
    "\n",
    "    # if the frame was not grabbed, then we have reached the end\n",
    "    # of the stream\n",
    "    if not grabbed:\n",
    "        break\n",
    "\n",
    "    # if the frame dimensions are empty, grab them\n",
    "    if W is None or H is None:\n",
    "        (H, W) = frame.shape[:2]\n",
    "        \n",
    "    # clone the output frame, then convert it from BGR to RGB\n",
    "    # ordering, resize the frame to a fixed 224x224, and then\n",
    "    # perform mean subtraction\n",
    "    output = frame.copy()\n",
    "    frame = cv2.cvtColor(frame, cv2.COLOR_BGR2RGB)\n",
    "    frame = cv2.resize(frame, (224, 224)).astype(\"float32\")\n",
    "    frame -= mean\n",
    "    \n",
    "    # make predictions on the frame and then update the predictions\n",
    "    # queue\n",
    "    preds = model.predict(np.expand_dims(frame, axis=0))[0]\n",
    "    Q.append(preds)\n",
    "\n",
    "    # perform prediction averaging over the current history of\n",
    "    # previous predictions\n",
    "    results = np.array(Q).mean(axis=0)\n",
    "    i = np.argmax(results)\n",
    "    label = lb.classes_[i]\n",
    "    \n",
    "    # draw the activity on the output frame\n",
    "    text = \"Activity : {}\".format(label)\n",
    "    cv2.putText(output, text, (35, 50), cv2.FONT_HERSHEY_SIMPLEX,\n",
    "        1.25, (0, 255, 0), 5)\n",
    "\n",
    "    # check if the video writer is None\n",
    "    if writer is None:\n",
    "        # initialize our video writer\n",
    "        fourcc = cv2.VideoWriter_fourcc(*\"MJPG\")\n",
    "        writer = cv2.VideoWriter('saved_video', fourcc, 30,\n",
    "            (W, H), True)\n",
    "\n",
    "    # write the output frame to disk\n",
    "    writer.write(output)\n",
    "\n",
    "    # show the output image\n",
    "    cv2.imshow(\"Output\", output)\n",
    "    key = cv2.waitKey(1) & 0xFF\n",
    "\n",
    "    # if the `q` key was pressed, break from the loop\n",
    "    if key == ord(\"q\"):\n",
    "        break\n",
    "\n",
    "# release the file pointers\n",
    "print(\"[INFO] cleaning up...\")\n",
    "writer.release()\n",
    "vs.release()"
   ]
  },
  {
   "cell_type": "markdown",
   "metadata": {},
   "source": [
    "As we see, even if the model image classification is really bad, we still have some accurate video classification by using the rolling prediction avereging. "
   ]
  }
 ],
 "metadata": {
  "kernelspec": {
   "display_name": "model-tf",
   "language": "python",
   "name": "model"
  },
  "language_info": {
   "codemirror_mode": {
    "name": "ipython",
    "version": 3
   },
   "file_extension": ".py",
   "mimetype": "text/x-python",
   "name": "python",
   "nbconvert_exporter": "python",
   "pygments_lexer": "ipython3",
   "version": "3.6.8"
  }
 },
 "nbformat": 4,
 "nbformat_minor": 2
}
